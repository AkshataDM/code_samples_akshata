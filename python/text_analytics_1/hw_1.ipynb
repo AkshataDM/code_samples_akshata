{
 "cells": [
  {
   "cell_type": "code",
   "execution_count": null,
   "metadata": {
    "collapsed": true
   },
   "outputs": [],
   "source": [
    "#Group members - Akshata Mohan, Anurag Chilukuri, Daan Rozenbroek, Daniel Lindquist, Matt Staton, Valerie Roth"
   ]
  },
  {
   "cell_type": "code",
   "execution_count": 1,
   "metadata": {
    "collapsed": false
   },
   "outputs": [
    {
     "name": "stdout",
     "output_type": "stream",
     "text": [
      "Populating the interactive namespace from numpy and matplotlib\n"
     ]
    },
    {
     "name": "stderr",
     "output_type": "stream",
     "text": [
      "WARNING: pylab import has clobbered these variables: ['hstack']\n",
      "`%matplotlib` prevents importing * from pylab and numpy\n"
     ]
    }
   ],
   "source": [
    "from pandas import Series, DataFrame\n",
    "import pandas as pd\n",
    "import nltk\n",
    "from nltk import word_tokenize\n",
    "from collections import defaultdict\n",
    "from collections import Counter\n",
    "import operator\n",
    "from nltk.tokenize import RegexpTokenizer\n",
    "import matplotlib.pyplot as plt\n",
    "from nltk.stem.wordnet import WordNetLemmatizer\n",
    "from nltk.corpus import stopwords\n",
    "from sklearn.feature_extraction.text import TfidfVectorizer\n",
    "from sklearn.metrics import confusion_matrix\n",
    "from sklearn.naive_bayes import MultinomialNB\n",
    "from nltk.stem import WordNetLemmatizer\n",
    "from nltk.corpus import stopwords\n",
    "from scipy.sparse import hstack\n",
    "%pylab inline"
   ]
  },
  {
   "cell_type": "code",
   "execution_count": 2,
   "metadata": {
    "collapsed": false
   },
   "outputs": [],
   "source": [
    "df = pd.read_csv(\"Train_rev1.csv\")\n"
   ]
  },
  {
   "cell_type": "markdown",
   "metadata": {},
   "source": [
    "PART A "
   ]
  },
  {
   "cell_type": "markdown",
   "metadata": {},
   "source": [
    "Q1 - What are the top 5 parts of speech in this corpus of job descriptions? How frequently do they appear?"
   ]
  },
  {
   "cell_type": "code",
   "execution_count": 3,
   "metadata": {
    "collapsed": false
   },
   "outputs": [],
   "source": [
    "#tokenization - we are using the regexp tokenizer because we do not want punctuations in our results. The regular exp represents a word so we take only words\n",
    "df_1 = df.sample(10000, random_state=99)#taking a small subset of data cause doing it on the entire set takes a lot of time \n",
    "#print df_1\n",
    "full_desc = df_1[\"FullDescription\"]\n",
    "\n",
    "token_list = []\n",
    "for index,row in full_desc.iteritems():\n",
    "    row = row.decode(\"utf-8\")\n",
    "    tokenizer = RegexpTokenizer(r'\\w+')\n",
    "    tokens = tokenizer.tokenize(row)\n",
    "    for i in tokens:\n",
    "        token_list.append(i)\n"
   ]
  },
  {
   "cell_type": "code",
   "execution_count": 4,
   "metadata": {
    "collapsed": false
   },
   "outputs": [],
   "source": [
    "lower_tokenlist = [t.lower() for t in token_list if t.isalpha()]"
   ]
  },
  {
   "cell_type": "code",
   "execution_count": 5,
   "metadata": {
    "collapsed": false
   },
   "outputs": [],
   "source": [
    "#pos tagging \n",
    "pos_tag = nltk.pos_tag(lower_tokenlist)\n",
    "word_tag_fd = nltk.FreqDist(pos_tag)"
   ]
  },
  {
   "cell_type": "code",
   "execution_count": 6,
   "metadata": {
    "collapsed": false
   },
   "outputs": [
    {
     "data": {
      "text/plain": [
       "<matplotlib.axes._subplots.AxesSubplot at 0x4a371710>"
      ]
     },
     "execution_count": 6,
     "metadata": {},
     "output_type": "execute_result"
    },
    {
     "data": {
      "image/png": "[encoded data removed]",
      "text/plain": [
       "<matplotlib.figure.Figure at 0x4a371080>"
      ]
     },
     "metadata": {},
     "output_type": "display_data"
    }
   ],
   "source": [
    "x = list(word_tag_fd)\n",
    "y = Counter(word_tag_fd)\n",
    "sorted_y = sorted(y.items(),key=operator.itemgetter(1), reverse = True)\n",
    "pos_dict = {}\n",
    "for i in range(len(sorted_y)):\n",
    "    if sorted_y[i][0][1] in pos_dict.keys():\n",
    "        continue\n",
    "    else:\n",
    "        pos_dict[sorted_y[i][0][1]] = sorted_y[i][1]\n",
    "sorted_lst = sorted(pos_dict.items(), key = operator.itemgetter(1), reverse = True)\n",
    "pos_series = pd.Series([x[1] for x in sorted_lst], [x[0] for x in sorted_lst])\n",
    "pos_series.head(5).plot(kind = \"bar\")"
   ]
  },
  {
   "cell_type": "markdown",
   "metadata": {},
   "source": [
    "Top 5 parts of speech : \n",
    "CC - coordinating conjunction [ 100000 ] \n",
    "TO - to [ 80000 ] \n",
    "DT - determiner [ 80000 ] \n",
    "IN - Preposition or subordinating conjunction [ 60000 ] \n",
    "PRP - personal pronoun [ 30000 ] \n"
   ]
  },
  {
   "cell_type": "markdown",
   "metadata": {
    "collapsed": true
   },
   "source": [
    "Q2 - Does this corpus support Zipf’s law? Plot the most common 100 words in the corpus against the theoretical prediction of the law. For this question, do not remove stopwords. Also do not perform stemming or lemmatization."
   ]
  },
  {
   "cell_type": "code",
   "execution_count": 7,
   "metadata": {
    "collapsed": false
   },
   "outputs": [],
   "source": [
    "count_word_freq = Counter(lower_tokenlist)"
   ]
  },
  {
   "cell_type": "code",
   "execution_count": 8,
   "metadata": {
    "collapsed": false
   },
   "outputs": [],
   "source": [
    "word_frequencies = []\n",
    "\n",
    "most_common_100 = count_word_freq.most_common(100)\n",
    "for i in range(len(most_common_100)):\n",
    "    word_frequencies.append(most_common_100[i][1])"
   ]
  },
  {
   "cell_type": "code",
   "execution_count": 9,
   "metadata": {
    "collapsed": true
   },
   "outputs": [],
   "source": [
    "i = 1\n",
    "word_frequencies_ideal = []\n",
    "for i in range(len(word_frequencies)):\n",
    "    word_frequencies_ideal.append((1.0)/(i+1))  "
   ]
  },
  {
   "cell_type": "code",
   "execution_count": 10,
   "metadata": {
    "collapsed": false
   },
   "outputs": [
    {
     "data": {
      "image/png": "[encoded data removed]",
      "text/plain": [
       "<matplotlib.figure.Figure at 0x49f4d1d0>"
      ]
     },
     "metadata": {},
     "output_type": "display_data"
    }
   ],
   "source": [
    "plt.plot([i for i in range(1, 1 + len(word_frequencies))], \n",
    "         [i for i in word_frequencies])\n",
    "\n",
    "plt.plot([i for i in range(1, 1 + len(word_frequencies))], \n",
    "         [i for i in word_frequencies_ideal])\n",
    "plt.xscale('log')\n",
    "plt.yscale('log')\n"
   ]
  },
  {
   "cell_type": "markdown",
   "metadata": {},
   "source": [
    "For words that are lower ranked ( very frequent words ) , the ziph's law does not seem to hold. For words that are higher ranked ( less frequent words ), ziphs law holds.  "
   ]
  },
  {
   "cell_type": "markdown",
   "metadata": {},
   "source": [
    "Q3. If we remove stopwords and lemmatize the corpus, what are the 10 most common words? What is their frequency?"
   ]
  },
  {
   "cell_type": "code",
   "execution_count": 11,
   "metadata": {
    "collapsed": false
   },
   "outputs": [],
   "source": [
    "clean_corpus = [word for word in lower_tokenlist if word not in stopwords.words('english')]\n"
   ]
  },
  {
   "cell_type": "code",
   "execution_count": 12,
   "metadata": {
    "collapsed": false
   },
   "outputs": [],
   "source": [
    "lemmatized = []\n",
    "lemmatizer = WordNetLemmatizer()\n",
    "for i in clean_corpus:\n",
    "    lemmatized.append(lemmatizer.lemmatize(i))"
   ]
  },
  {
   "cell_type": "code",
   "execution_count": 13,
   "metadata": {
    "collapsed": true
   },
   "outputs": [],
   "source": [
    "count_word_freq_lemmatized = Counter(lemmatized)"
   ]
  },
  {
   "cell_type": "code",
   "execution_count": 14,
   "metadata": {
    "collapsed": false
   },
   "outputs": [
    {
     "data": {
      "text/plain": [
       "[(u'experience', 17508),\n",
       " (u'role', 12732),\n",
       " (u'team', 12096),\n",
       " (u'client', 11837),\n",
       " (u'work', 11777),\n",
       " (u'business', 11235),\n",
       " (u'service', 9928),\n",
       " (u'skill', 9895),\n",
       " (u'working', 8939),\n",
       " (u'sale', 8931)]"
      ]
     },
     "execution_count": 14,
     "metadata": {},
     "output_type": "execute_result"
    }
   ],
   "source": [
    "count_word_freq_lemmatized.most_common(10)"
   ]
  },
  {
   "cell_type": "markdown",
   "metadata": {},
   "source": [
    "PART B "
   ]
  },
  {
   "cell_type": "code",
   "execution_count": 5,
   "metadata": {
    "collapsed": false
   },
   "outputs": [],
   "source": [
    "def classify_salary(s):\n",
    "    if s >= percentile_train:\n",
    "        return 1\n",
    "    else:\n",
    "        return 0\n",
    "def classify_salary_test(s):\n",
    "    if s >= percentile_test:\n",
    "        return 1\n",
    "    else:\n",
    "        return 0\n",
    "\n",
    "import random\n",
    "df_train = df_1.sample(2000, random_state=99)\n",
    "#df_train = df_1[1:500]\n",
    "df_desc_train = df_train[\"FullDescription\"].str.decode('utf-8')\n",
    "\n",
    "salary = df_train[\"SalaryNormalized\"]\n",
    "salary_array = np.array(salary)\n",
    "\n",
    "#train data salary classification\n",
    "salary_train_sorted = sorted(salary)\n",
    "percentile_train = salary_train_sorted[int(0.75 * len(salary_train_sorted))]\n",
    "salary_labels = salary.map(classify_salary)\n",
    "salary_labels = np.array(salary_labels)\n",
    "\n",
    "#test data salary classification\n",
    "df_test = df_1.sample(1000, random_state=99)\n",
    "salary_test = df_test[\"SalaryNormalized\"]\n",
    "actual_sorted = sorted(salary_test)\n",
    "percentile_test = actual_sorted[int(0.75 * len(actual_sorted))]\n",
    "actual_labels = salary_test.map(classify_salary_test)"
   ]
  },
  {
   "cell_type": "code",
   "execution_count": 6,
   "metadata": {
    "collapsed": false
   },
   "outputs": [],
   "source": [
    "vectorizer = TfidfVectorizer(min_df=2, \n",
    " ngram_range=(1, 1), \n",
    " strip_accents='unicode', \n",
    " norm='l2')\n",
    "x_train = np.array([''.join(el) for el in df_desc_train])\n",
    "train_transformed = vectorizer.fit_transform(x_train)\n"
   ]
  },
  {
   "cell_type": "code",
   "execution_count": 7,
   "metadata": {
    "collapsed": false
   },
   "outputs": [],
   "source": [
    "model_nb = MultinomialNB()\n",
    "model_fit = model_nb.fit(train_transformed, salary_labels)\n"
   ]
  },
  {
   "cell_type": "code",
   "execution_count": 8,
   "metadata": {
    "collapsed": false
   },
   "outputs": [
    {
     "name": "stdout",
     "output_type": "stream",
     "text": [
      "Confusion matrix, without normalization\n",
      "[[738 248]\n",
      " [  0  14]]\n",
      "0.752\n"
     ]
    },
    {
     "data": {
      "image/png": "[encoded data removed]",
      "text/plain": [
       "<matplotlib.figure.Figure at 0x7fdde53a08d0>"
      ]
     },
     "metadata": {},
     "output_type": "display_data"
    }
   ],
   "source": [
    "def classify_salary(s):\n",
    "    if s >= percentile_prediction:\n",
    "        return 1\n",
    "    else:\n",
    "        return 0\n",
    "\n",
    "df_desc_test = df_test[\"FullDescription\"].str.decode('utf-8')\n",
    "x_test = np.array([''.join(el) for el in df_desc_test])\n",
    "test_transformed = vectorizer.transform(x_test)\n",
    "predictions = model_fit.predict(test_transformed)\n",
    "predictions = pd.Series(predictions)\n",
    "cm = confusion_matrix(predictions, actual_labels)\n",
    "\n",
    "def plot_confusion_matrix(cm, title='Confusion matrix', cmap=plt.cm.Blues):\n",
    "    plt.imshow(cm, interpolation='nearest', cmap=cmap)\n",
    "    plt.title('Bag of Words Confusion Matrix')\n",
    "    plt.colorbar()\n",
    "    tick_marks = np.arange(2)  #Set to the number of classes \n",
    "    plt.xticks(tick_marks, ('<75k','>75k'), rotation=45)\n",
    "    plt.yticks(tick_marks, ('<75k','>75k'))\n",
    "    plt.tight_layout()\n",
    "    plt.ylabel('True label')\n",
    "    plt.xlabel('Predicted label')\n",
    "\n",
    "# Compute confusion matrix\n",
    "np.set_printoptions(precision=2)\n",
    "print('Confusion matrix, without normalization')\n",
    "print(cm)\n",
    "plt.figure()\n",
    "plot_confusion_matrix(cm)    \n",
    "    \n",
    "accuracy = (1.0 * cm[0][0]+cm[1][1])/ (sum(cm))\n",
    "accuracy\n",
    "print accuracy"
   ]
  },
  {
   "cell_type": "markdown",
   "metadata": {
    "collapsed": true
   },
   "source": [
    "B2 \n",
    "Speculation - I think lemmatization would reduce the accuracy of the model. When you do lemmatization, you are basically reducing the word to it's root word. Even though you are considering the context into account, the final bag of words model contains just the frequency. You might incorrectly be adding to the frequency of a root word when it meant something else. Which in turn affects the accuracy.\n",
    "\n",
    "In general with lemmatization you aren't just adding information, you are recategorizing words and thus there is a cost. Depending on the situation, the pos grouping of words by their lemmas may or may not lead to a better result. Basically the tradeoff is do the lemmas of words have more predictive power than other forms of the words.\n",
    "\n",
    "\n",
    "With a small sample of only 500 lines, the lemmatization slightly worsened the model from .78 accuracy to .75. Either result would not have been surprising because we understand the inherent tradeoffs."
   ]
  },
  {
   "cell_type": "code",
   "execution_count": 9,
   "metadata": {
    "collapsed": false
   },
   "outputs": [],
   "source": [
    "class LemmaTokenizer(object):\n",
    "    def __init__(self):\n",
    "        self.wnl = WordNetLemmatizer()\n",
    "    def __call__(self, doc):\n",
    "        return [self.wnl.lemmatize(t) for t in word_tokenize(doc)]\n",
    "    \n",
    "    \n"
   ]
  },
  {
   "cell_type": "code",
   "execution_count": 10,
   "metadata": {
    "collapsed": true
   },
   "outputs": [],
   "source": [
    "lemma_vectorizer = TfidfVectorizer(min_df=0, smooth_idf=True, strip_accents='unicode', norm='l2', tokenizer=LemmaTokenizer())"
   ]
  },
  {
   "cell_type": "code",
   "execution_count": 11,
   "metadata": {
    "collapsed": true
   },
   "outputs": [],
   "source": [
    "train_lemma_transformed = lemma_vectorizer.fit_transform(df_desc_train)\n",
    "test_lemma_transformed = lemma_vectorizer.transform(df_desc_test)"
   ]
  },
  {
   "cell_type": "code",
   "execution_count": 12,
   "metadata": {
    "collapsed": false
   },
   "outputs": [],
   "source": [
    "model_fit = model_nb.fit(train_lemma_transformed, salary_labels)\n"
   ]
  },
  {
   "cell_type": "code",
   "execution_count": 13,
   "metadata": {
    "collapsed": false
   },
   "outputs": [],
   "source": [
    "predictions_lemma = model_fit.predict(test_lemma_transformed)"
   ]
  },
  {
   "cell_type": "code",
   "execution_count": 14,
   "metadata": {
    "collapsed": false
   },
   "outputs": [
    {
     "name": "stdout",
     "output_type": "stream",
     "text": [
      "0.738\n",
      "Confusion matrix, without normalization\n",
      "[[738 262]\n",
      " [  0   0]]\n"
     ]
    },
    {
     "data": {
      "image/png": "[encoded data removed]",
      "text/plain": [
       "<matplotlib.figure.Figure at 0x7fde28479050>"
      ]
     },
     "metadata": {},
     "output_type": "display_data"
    }
   ],
   "source": [
    "cm_lemma = confusion_matrix(predictions_lemma,actual_labels)\n",
    "accuracy_lemma = ( 1.0 * cm_lemma[0][0] + cm_lemma[1][1])/sum(cm_lemma) \n",
    "print accuracy_lemma\n",
    "\n",
    "def plot_confusion_matrix(cm, title='Confusion matrix', cmap=plt.cm.Blues):\n",
    "    plt.imshow(cm, interpolation='nearest', cmap=cmap)\n",
    "    plt.title('Lemmatized Confusion Matrix')\n",
    "    plt.colorbar()\n",
    "    tick_marks = np.arange(2)  #Set to the number of classes \n",
    "    plt.xticks(tick_marks, ('<75k','>75k'), rotation=45)\n",
    "    plt.yticks(tick_marks, ('<75k','>75k'))\n",
    "    plt.tight_layout()\n",
    "    plt.ylabel('True label')\n",
    "    plt.xlabel('Predicted label')\n",
    "\n",
    "# Compute confusion matrix\n",
    "np.set_printoptions(precision=2)\n",
    "print('Confusion matrix, without normalization')\n",
    "print(cm_lemma)\n",
    "plt.figure()\n",
    "plot_confusion_matrix(cm_lemma)    "
   ]
  },
  {
   "cell_type": "markdown",
   "metadata": {},
   "source": [
    "B3 : \n",
    "I think removing stopwords wouldn't affect accuracy of the model much because stop words are equally distibuted in both the classes and not contribute much information to the model ( noise ). Removing it would increase the interpretability of the model.\n"
   ]
  },
  {
   "cell_type": "code",
   "execution_count": 15,
   "metadata": {
    "collapsed": false
   },
   "outputs": [],
   "source": [
    "stop_vectorizer = TfidfVectorizer(min_df=0, smooth_idf=True, strip_accents='unicode',\\\n",
    "                norm='l2', stop_words='english')\n",
    "\n",
    "train_nostop_transformed = stop_vectorizer.fit_transform(df_desc_train)\n",
    "test_nostop_transformed = stop_vectorizer.transform(df_desc_test)"
   ]
  },
  {
   "cell_type": "code",
   "execution_count": 16,
   "metadata": {
    "collapsed": false
   },
   "outputs": [],
   "source": [
    "model_fit = model_nb.fit(train_nostop_transformed, salary_labels)\n",
    "predictions_stop_words = model_fit.predict(test_nostop_transformed)"
   ]
  },
  {
   "cell_type": "code",
   "execution_count": 17,
   "metadata": {
    "collapsed": false
   },
   "outputs": [
    {
     "name": "stdout",
     "output_type": "stream",
     "text": [
      "0.741\n",
      "Confusion matrix, without normalization\n",
      "[[738 259]\n",
      " [  0   3]]\n"
     ]
    },
    {
     "data": {
      "image/png": "[encoded data removed]",
      "text/plain": [
       "<matplotlib.figure.Figure at 0x7fddf384a090>"
      ]
     },
     "metadata": {},
     "output_type": "display_data"
    }
   ],
   "source": [
    "cm_stop_words = confusion_matrix(predictions_stop_words,actual_labels)\n",
    "accuracy_stop_words = ( 1.0 * cm_stop_words[0][0] + cm_stop_words[1][1])/sum(cm_stop_words) \n",
    "print accuracy_stop_words\n",
    "\n",
    "def plot_confusion_matrix(cm, title='Confusion matrix', cmap=plt.cm.Blues):\n",
    "    plt.imshow(cm, interpolation='nearest', cmap=cmap)\n",
    "    plt.title('No Stop-words Confusion Matrix')\n",
    "    plt.colorbar()\n",
    "    tick_marks = np.arange(2)  #Set to the number of classes \n",
    "    plt.xticks(tick_marks, ('<75k','>75k'), rotation=45)\n",
    "    plt.yticks(tick_marks, ('<75k','>75k'))\n",
    "    plt.tight_layout()\n",
    "    plt.ylabel('True label')\n",
    "    plt.xlabel('Predicted label')\n",
    "\n",
    "# Compute confusion matrix\n",
    "np.set_printoptions(precision=2)\n",
    "print('Confusion matrix, without normalization')\n",
    "print(cm_stop_words)\n",
    "plt.figure()\n",
    "plot_confusion_matrix(cm_stop_words)  "
   ]
  },
  {
   "cell_type": "markdown",
   "metadata": {},
   "source": [
    "top 10 words for high salary"
   ]
  },
  {
   "cell_type": "code",
   "execution_count": 18,
   "metadata": {
    "collapsed": false
   },
   "outputs": [],
   "source": [
    "no_stop_words = df_train[\"FullDescription\"]\n",
    "\n",
    "mask = salary_labels == 1\n",
    "top_10_desc = no_stop_words[mask]\n",
    "\n",
    "word_list = []\n",
    "for index,row in top_10_desc.iteritems():\n",
    "    row = row.decode(\"utf-8\")\n",
    "    tokenizer = RegexpTokenizer(r'\\w+')\n",
    "    tokens = tokenizer.tokenize(row)\n",
    "    tokens = [t.lower() for t in tokens if t.isalpha()]\n",
    "    filtered_words = [word for word in tokens if word not in stopwords.words('english')]\n",
    "    for i in filtered_words:\n",
    "        word_list.append(i)\n",
    "\n"
   ]
  },
  {
   "cell_type": "code",
   "execution_count": 19,
   "metadata": {
    "collapsed": false
   },
   "outputs": [
    {
     "data": {
      "text/plain": [
       "[(u'experience', 1031),\n",
       " (u'business', 774),\n",
       " (u'role', 638),\n",
       " (u'management', 594),\n",
       " (u'team', 572),\n",
       " (u'work', 546),\n",
       " (u'skills', 496),\n",
       " (u'within', 468),\n",
       " (u'project', 449),\n",
       " (u'development', 443)]"
      ]
     },
     "execution_count": 19,
     "metadata": {},
     "output_type": "execute_result"
    }
   ],
   "source": [
    "top_10 = Counter(word_list)\n",
    "top_10.most_common(10)"
   ]
  },
  {
   "cell_type": "markdown",
   "metadata": {},
   "source": [
    "top 10 words for low salary"
   ]
  },
  {
   "cell_type": "code",
   "execution_count": 20,
   "metadata": {
    "collapsed": true
   },
   "outputs": [],
   "source": [
    "no_stop_words = df_train[\"FullDescription\"]\n",
    "\n",
    "mask = salary_labels == 0\n",
    "top_10_desc = no_stop_words[mask]\n",
    "\n",
    "word_list = []\n",
    "for index,row in top_10_desc.iteritems():\n",
    "    row = row.decode(\"utf-8\")\n",
    "    tokenizer = RegexpTokenizer(r'\\w+')\n",
    "    tokens = tokenizer.tokenize(row)\n",
    "    tokens = [t.lower() for t in tokens if t.isalpha()]\n",
    "    filtered_words = [word for word in tokens if word not in stopwords.words('english')]\n",
    "    for i in filtered_words:\n",
    "        word_list.append(i)"
   ]
  },
  {
   "cell_type": "code",
   "execution_count": 21,
   "metadata": {
    "collapsed": false
   },
   "outputs": [
    {
     "data": {
      "text/plain": [
       "[(u'experience', 2465),\n",
       " (u'role', 1754),\n",
       " (u'work', 1697),\n",
       " (u'team', 1606),\n",
       " (u'skills', 1422),\n",
       " (u'sales', 1418),\n",
       " (u'working', 1393),\n",
       " (u'business', 1357),\n",
       " (u'within', 1267),\n",
       " (u'client', 1184)]"
      ]
     },
     "execution_count": 21,
     "metadata": {},
     "output_type": "execute_result"
    }
   ],
   "source": [
    "top_10 = Counter(word_list)\n",
    "top_10.most_common(10)"
   ]
  },
  {
   "cell_type": "markdown",
   "metadata": {},
   "source": [
    "B4: "
   ]
  },
  {
   "cell_type": "code",
   "execution_count": 22,
   "metadata": {
    "collapsed": true
   },
   "outputs": [],
   "source": [
    "class pos_tag_bigram(object):\n",
    "    def __init__(self):\n",
    "        pass\n",
    "    def __call__(self, doc):\n",
    "        return nltk.Text(nltk.bigrams([i[1] for i in nltk.pos_tag(nltk.word_tokenize(doc))]))\n",
    "    \n",
    "    \n",
    "    "
   ]
  },
  {
   "cell_type": "code",
   "execution_count": 23,
   "metadata": {
    "collapsed": false
   },
   "outputs": [],
   "source": [
    "bigram_pos_vectorizer = TfidfVectorizer(min_df=0, smooth_idf=True, strip_accents='unicode',tokenizer=pos_tag_bigram())\n",
    "\n",
    "train_pos_bigram_transformed = bigram_pos_vectorizer.fit_transform(df_desc_train)\n",
    "test_pos_bigram_transformed = bigram_pos_vectorizer.transform(df_desc_test)"
   ]
  },
  {
   "cell_type": "code",
   "execution_count": 25,
   "metadata": {
    "collapsed": false
   },
   "outputs": [],
   "source": [
    "model_fit = model_nb.fit(train_pos_bigram_transformed, salary_labels)\n",
    "predictions_pos_bigram = model_fit.predict(test_pos_bigram_transformed)"
   ]
  },
  {
   "cell_type": "code",
   "execution_count": 26,
   "metadata": {
    "collapsed": false
   },
   "outputs": [
    {
     "data": {
      "text/plain": [
       "0.738"
      ]
     },
     "execution_count": 26,
     "metadata": {},
     "output_type": "execute_result"
    }
   ],
   "source": [
    "cm_pos_bigram = confusion_matrix(predictions_pos_bigram,actual_labels)\n",
    "accuracy_pos_bigram = ( 1.0 * cm_pos_bigram[0][0] + cm_pos_bigram[1][1])/sum(cm_pos_bigram) \n",
    "accuracy_pos_bigram"
   ]
  },
  {
   "cell_type": "markdown",
   "metadata": {},
   "source": [
    "No, the accuracy does not seem to increase over b1. In fact, it remains about the same. "
   ]
  }
 ],
 "metadata": {
  "kernelspec": {
   "display_name": "Python 2",
   "language": "python",
   "name": "python2"
  },
  "language_info": {
   "codemirror_mode": {
    "name": "ipython",
    "version": 2
   },
   "file_extension": ".py",
   "mimetype": "text/x-python",
   "name": "python",
   "nbconvert_exporter": "python",
   "pygments_lexer": "ipython2",
   "version": "2.7.12"
  }
 },
 "nbformat": 4,
 "nbformat_minor": 0
}
